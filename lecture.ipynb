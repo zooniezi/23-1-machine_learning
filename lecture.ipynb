{
  "nbformat": 4,
  "nbformat_minor": 0,
  "metadata": {
    "colab": {
      "provenance": []
    },
    "kernelspec": {
      "name": "python3",
      "display_name": "Python 3"
    },
    "language_info": {
      "name": "python"
    }
  },
  "cells": [
    {
      "cell_type": "code",
      "execution_count": 1,
      "metadata": {
        "colab": {
          "base_uri": "https://localhost:8080/"
        },
        "id": "2OT8Q68pkut4",
        "outputId": "4c74b53b-135f-462f-a4f9-31d0af6b4661"
      },
      "outputs": [
        {
          "output_type": "stream",
          "name": "stdout",
          "text": [
            "223\n"
          ]
        }
      ],
      "source": [
        "print(223)"
      ]
    },
    {
      "cell_type": "code",
      "source": [
        "type(223)"
      ],
      "metadata": {
        "colab": {
          "base_uri": "https://localhost:8080/"
        },
        "id": "wQyRkad8l54C",
        "outputId": "15daa174-0a2a-4c84-f272-e0b9fb1bc6d9"
      },
      "execution_count": 2,
      "outputs": [
        {
          "output_type": "execute_result",
          "data": {
            "text/plain": [
              "int"
            ]
          },
          "metadata": {},
          "execution_count": 2
        }
      ]
    },
    {
      "cell_type": "code",
      "source": [],
      "metadata": {
        "id": "IaVQJ6L2mTL6"
      },
      "execution_count": null,
      "outputs": []
    }
  ]
}